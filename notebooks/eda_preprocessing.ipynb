{
  "nbformat": 4,
  "nbformat_minor": 0,
  "metadata": {
    "colab": {
      "provenance": []
    },
    "kernelspec": {
      "name": "python3",
      "display_name": "Python 3"
    },
    "language_info": {
      "name": "python"
    }
  },
  "cells": [
    {
      "cell_type": "code",
      "execution_count": 1,
      "metadata": {
        "id": "HJKghkCCa1dv"
      },
      "outputs": [],
      "source": [
        "import zipfile\n",
        "from pathlib import Path\n",
        "\n",
        "import pandas as pd\n",
        "import matplotlib.pyplot as plt"
      ]
    },
    {
      "cell_type": "code",
      "source": [
        "%cd '/content/drive/MyDrive/Tenx program/week-6'"
      ],
      "metadata": {
        "colab": {
          "base_uri": "https://localhost:8080/"
        },
        "id": "hfBr98gEa9MZ",
        "outputId": "ffd7ce86-da83-4c70-d5f4-29c9ec84ff2e"
      },
      "execution_count": 2,
      "outputs": [
        {
          "output_type": "stream",
          "name": "stdout",
          "text": [
            "/content/drive/MyDrive/Tenx program/week-6\n"
          ]
        }
      ]
    },
    {
      "cell_type": "code",
      "source": [
        "from scripts.eda_preprocessing import (\n",
        "    load_minimal,\n",
        "    basic_eda,\n",
        "    basic_eda_streamed,\n",
        "    filter_and_clean,\n",
        "    chunked_filter_and_clean,\n",
        ")"
      ],
      "metadata": {
        "id": "cp1I7iPBcgwh"
      },
      "execution_count": 3,
      "outputs": []
    },
    {
      "cell_type": "code",
      "source": [
        "from pathlib import Path\n",
        "\n",
        "ZIP = Path(\"complaints.csv.zip\")\n",
        "CSV = \"complaints.csv\"\n",
        "OUT = Path(\"data/filtered_complaints.csv\")"
      ],
      "metadata": {
        "id": "LH-mAHG-jBdv"
      },
      "execution_count": 4,
      "outputs": []
    },
    {
      "cell_type": "code",
      "source": [
        "# 1) Minimal-column, top-n-rows load + EDA\n",
        "df_small = load_minimal(ZIP, CSV)\n",
        "basic_eda(df_small)"
      ],
      "metadata": {
        "colab": {
          "base_uri": "https://localhost:8080/"
        },
        "id": "3Uz_pf3Da6MW",
        "outputId": "2857f304-eb93-4196-c423-efb174462856"
      },
      "execution_count": 5,
      "outputs": [
        {
          "output_type": "stream",
          "name": "stdout",
          "text": [
            "\n",
            "=== DATAFRAME INFO ===\n",
            "<class 'pandas.core.frame.DataFrame'>\n",
            "RangeIndex: 3000000 entries, 0 to 2999999\n",
            "Data columns (total 2 columns):\n",
            " #   Column                        Dtype   \n",
            "---  ------                        -----   \n",
            " 0   Product                       category\n",
            " 1   Consumer complaint narrative  object  \n",
            "dtypes: category(1), object(1)\n",
            "memory usage: 25.8+ MB\n",
            "None\n",
            "\n",
            "=== HEAD ===\n",
            "                                             Product  \\\n",
            "0  Credit reporting or other personal consumer re...   \n",
            "1                                    Debt collection   \n",
            "2  Credit reporting or other personal consumer re...   \n",
            "3  Credit reporting or other personal consumer re...   \n",
            "4  Credit reporting or other personal consumer re...   \n",
            "\n",
            "  Consumer complaint narrative  \n",
            "0                          NaN  \n",
            "1                          NaN  \n",
            "2                          NaN  \n",
            "3                          NaN  \n",
            "4                          NaN  \n",
            "\n",
            "=== PRODUCT VALUE COUNTS ===\n",
            "Product\n",
            "Credit reporting or other personal consumer reports                             2520552\n",
            "Debt collection                                                                  140990\n",
            "Credit reporting, credit repair services, or other personal consumer reports     103119\n",
            "Money transfer, virtual currency, or money service                                56205\n",
            "Credit card                                                                       52669\n",
            "Checking or savings account                                                       51874\n",
            "Mortgage                                                                          20270\n",
            "Student loan                                                                      15802\n",
            "Vehicle loan or lease                                                             11266\n",
            "Credit card or prepaid card                                                        6106\n",
            "Payday loan, title loan, personal loan, or advance loan                            5993\n",
            "Credit reporting                                                                   5241\n",
            "Prepaid card                                                                       3989\n",
            "Debt or credit management                                                          2410\n",
            "Bank account or service                                                            1820\n",
            "Payday loan, title loan, or personal loan                                           771\n",
            "Consumer Loan                                                                       663\n",
            "Payday loan                                                                         147\n",
            "Money transfers                                                                      94\n",
            "Other financial service                                                              19\n",
            "Name: count, dtype: int64\n",
            "\n",
            "=== NARRATIVE LENGTH STATS ===\n",
            "count    3.000000e+06\n",
            "mean     3.946106e+01\n",
            "std      1.253386e+02\n",
            "min      0.000000e+00\n",
            "25%      0.000000e+00\n",
            "50%      0.000000e+00\n",
            "75%      0.000000e+00\n",
            "max      6.469000e+03\n",
            "Name: narr_len, dtype: float64\n",
            "Empty/missing narratives: 2295846\n"
          ]
        }
      ]
    },
    {
      "cell_type": "code",
      "source": [
        "import matplotlib.pyplot as plt\n",
        "\n",
        "df_small[\"narr_len\"].hist(bins=50)\n",
        "plt.title(\"Narrative Word Count Distribution\")\n",
        "plt.xlabel(\"Words per narrative\")\n",
        "plt.ylabel(\"Number of complaints\")\n",
        "plt.show()\n"
      ],
      "metadata": {
        "colab": {
          "base_uri": "https://localhost:8080/",
          "height": 472
        },
        "id": "jOlMGAxwjt0y",
        "outputId": "d8e6bc53-0355-4f9c-ee12-fec8ece46cf0"
      },
      "execution_count": 6,
      "outputs": [
        {
          "output_type": "display_data",
          "data": {
            "text/plain": [
              "<Figure size 640x480 with 1 Axes>"
            ],
            "image/png": "[encoded data removed]"
          },
          "metadata": {}
        }
      ]
    },
    {
      "cell_type": "code",
      "source": [
        "# 2) Streamed EDA on top SAMPLE_NROWS\n",
        "basic_eda_streamed(ZIP, CSV)"
      ],
      "metadata": {
        "colab": {
          "base_uri": "https://localhost:8080/"
        },
        "id": "0A-ZQ599a6F5",
        "outputId": "85de8cf0-4786-4460-ebb8-0ea260f3d121"
      },
      "execution_count": 7,
      "outputs": [
        {
          "output_type": "stream",
          "name": "stdout",
          "text": [
            "Total rows processed (sampled): 3000000\n",
            "Complaints by product:\n",
            "  Credit reporting or other personal consumer reports: 2520552\n",
            "  Debt collection: 140990\n",
            "  Credit reporting, credit repair services, or other personal consumer reports: 103119\n",
            "  Money transfer, virtual currency, or money service: 56205\n",
            "  Credit card: 52669\n",
            "  Checking or savings account: 51874\n",
            "  Mortgage: 20270\n",
            "  Student loan: 15802\n",
            "  Vehicle loan or lease: 11266\n",
            "  Credit card or prepaid card: 6106\n",
            "  Payday loan, title loan, personal loan, or advance loan: 5993\n",
            "  Credit reporting: 5241\n",
            "  Prepaid card: 3989\n",
            "  Debt or credit management: 2410\n",
            "  Bank account or service: 1820\n",
            "  Payday loan, title loan, or personal loan: 771\n",
            "  Consumer Loan: 663\n",
            "  Payday loan: 147\n",
            "  Money transfers: 94\n",
            "  Other financial service: 19\n",
            "Empty/missing narratives: 2295846\n",
            "Narrative word counts — min=0, mean=39.5, std=125.3, max=6469\n"
          ]
        }
      ]
    },
    {
      "cell_type": "code",
      "source": [
        "# 3) Filter & clean on sample, writing to OUT\n",
        "chunked_filter_and_clean(ZIP, CSV, OUT)\n",
        "rows = sum(1 for _ in open(OUT)) - 1\n",
        "print(\"Total filtered complaints:\", rows)"
      ],
      "metadata": {
        "colab": {
          "base_uri": "https://localhost:8080/"
        },
        "id": "PlfT_KfLa57X",
        "outputId": "f7559d04-e763-4bf8-b034-b74d509f526b"
      },
      "execution_count": 8,
      "outputs": [
        {
          "output_type": "stream",
          "name": "stdout",
          "text": [
            "Total filtered complaints: 314955\n"
          ]
        }
      ]
    },
    {
      "cell_type": "code",
      "source": [],
      "metadata": {
        "id": "vkAdHSzbjUa0"
      },
      "execution_count": 8,
      "outputs": []
    },
    {
      "cell_type": "code",
      "source": [],
      "metadata": {
        "id": "EX7mjxRJnV09"
      },
      "execution_count": 8,
      "outputs": []
    }
  ]
}